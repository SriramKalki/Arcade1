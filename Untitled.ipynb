{
 "cells": [
  {
   "cell_type": "code",
   "execution_count": 1,
   "id": "24de1796-06ce-44ae-ad99-e6420d7707e2",
   "metadata": {},
   "outputs": [],
   "source": [
    "!pip install -q langchain\n",
    "!pip install -q openai"
   ]
  },
  {
   "cell_type": "code",
   "execution_count": 1,
   "id": "b4f55a89-9f32-490a-a527-48c9ed43871f",
   "metadata": {},
   "outputs": [],
   "source": [
    "import os\n",
    "os.environ['OPENAI_API_KEY'] = 'censored'"
   ]
  },
  {
   "cell_type": "code",
   "execution_count": 3,
   "id": "49b3707c-e4bc-447f-a2bf-133b57f48778",
   "metadata": {},
   "outputs": [],
   "source": [
    "import pandas as pd\n",
    "\n",
    "data = {\n",
    "    \"date\": [\"2024-04-24\", \"2024-04-25\", \"2024-04-26\", \"2024-04-27\", \"2024-04-28\", \"2024-04-29\"],\n",
    "    \"weather_code\": [3.0, 61.0, 3.0, 55.0, 3.0, 63.0],\n",
    "    \"temperature_max\": [54.9464, 52.6064, 61.9664, 52.2464, 52.6064, 48.4664],\n",
    "    \"temperature_min\": [44.2364, 47.1164, 48.6464, 47.9264, 42.796402, 40.0064],\n",
    "    \"precipitation_sum\": [0.0, 0.22440945, 0.0, 0.1456693, 0.0, 0.2952756],\n",
    "    \"wind_speed_max\": [9.309791, 10.116089, 8.249648, 10.711936, 13.588738, 7.4495792],\n",
    "    \"precipitation_probability_max\": [45.0, 100.0, 100.0, 100.0, 97.0, 100.0]\n",
    "}\n",
    "\n",
    "df = pd.DataFrame(data)"
   ]
  },
  {
   "cell_type": "code",
   "execution_count": 5,
   "id": "437a2866-69eb-4ed7-979e-8db6ccd5833b",
   "metadata": {},
   "outputs": [],
   "source": [
    "import sqlite3\n",
    "\n",
    "# Create a new SQLite database (or connect to an existing one)\n",
    "conn = sqlite3.connect('weather.db')\n",
    "cursor = conn.cursor()\n",
    "\n",
    "# Create a table\n",
    "cursor.execute('''\n",
    "CREATE TABLE IF NOT EXISTS weather (\n",
    "    date TEXT,\n",
    "    weather_code REAL,\n",
    "    temperature_max REAL,\n",
    "    temperature_min REAL,\n",
    "    precipitation_sum REAL,\n",
    "    wind_speed_max REAL,\n",
    "    precipitation_probability_max REAL\n",
    ")\n",
    "''')\n",
    "\n",
    "# Insert data into the table\n",
    "for row in df.itertuples(index=False):\n",
    "    cursor.execute('''\n",
    "    INSERT INTO weather (date, weather_code, temperature_max, temperature_min, precipitation_sum, wind_speed_max, precipitation_probability_max)\n",
    "    VALUES (?, ?, ?, ?, ?, ?, ?)\n",
    "    ''', row)\n",
    "\n",
    "# Commit the transaction and close the connection\n",
    "conn.commit()\n",
    "conn.close()"
   ]
  },
  {
   "cell_type": "code",
   "execution_count": 6,
   "id": "66a09527-7860-4e33-84a1-ec323f6ad20a",
   "metadata": {},
   "outputs": [
    {
     "name": "stdout",
     "output_type": "stream",
     "text": [
      "('2024-04-24', 3.0, 54.9464, 44.2364, 0.0, 9.309791, 45.0)\n",
      "('2024-04-25', 61.0, 52.6064, 47.1164, 0.22440945, 10.116089, 100.0)\n",
      "('2024-04-26', 3.0, 61.9664, 48.6464, 0.0, 8.249648, 100.0)\n",
      "('2024-04-27', 55.0, 52.2464, 47.9264, 0.1456693, 10.711936, 100.0)\n",
      "('2024-04-28', 3.0, 52.6064, 42.796402, 0.0, 13.588738, 97.0)\n",
      "('2024-04-29', 63.0, 48.4664, 40.0064, 0.2952756, 7.4495792, 100.0)\n"
     ]
    }
   ],
   "source": [
    "# Reconnect to the SQLite database\n",
    "conn = sqlite3.connect('weather.db')\n",
    "cursor = conn.cursor()\n",
    "\n",
    "# Query the database\n",
    "cursor.execute('SELECT * FROM weather')\n",
    "rows = cursor.fetchall()\n",
    "\n",
    "# Print the rows\n",
    "for row in rows:\n",
    "    print(row)\n",
    "\n",
    "# Close the connection\n",
    "conn.close()"
   ]
  },
  {
   "cell_type": "code",
   "execution_count": 7,
   "id": "4bc66b77-e326-4971-9393-2acc6f899674",
   "metadata": {},
   "outputs": [
    {
     "name": "stdout",
     "output_type": "stream",
     "text": [
      "('2024-04-24', 3.0, 54.9464, 44.2364, 0.0, 9.309791, 45.0)\n",
      "('2024-04-25', 61.0, 52.6064, 47.1164, 0.22440945, 10.116089, 100.0)\n",
      "('2024-04-26', 3.0, 61.9664, 48.6464, 0.0, 8.249648, 100.0)\n",
      "('2024-04-27', 55.0, 52.2464, 47.9264, 0.1456693, 10.711936, 100.0)\n",
      "('2024-04-28', 3.0, 52.6064, 42.796402, 0.0, 13.588738, 97.0)\n",
      "('2024-04-29', 63.0, 48.4664, 40.0064, 0.2952756, 7.4495792, 100.0)\n"
     ]
    }
   ],
   "source": [
    "\n",
    "def read_sql_query(sql, db):\n",
    "    conn = sqlite3.connect(db)\n",
    "    cur = conn.cursor()\n",
    "    cur.execute(sql)\n",
    "    rows = cur.fetchall()\n",
    "    for row in rows:\n",
    "        print(row)\n",
    "    conn.close()\n",
    "\n",
    "read_sql_query('SELECT * FROM weather','weather.db')"
   ]
  },
  {
   "cell_type": "code",
   "execution_count": 22,
   "id": "75f12a28-12c1-450b-a59e-90966042d04a",
   "metadata": {},
   "outputs": [],
   "source": [
    "from langchain.chains import create_sql_query_chain\n",
    "from langchain_openai import ChatOpenAI"
   ]
  },
  {
   "cell_type": "code",
   "execution_count": 24,
   "id": "f286cd3d-3ccf-43f3-afbd-b5aa67e5a7bd",
   "metadata": {},
   "outputs": [],
   "source": [
    " from langchain_community.utilities.sql_database import SQLDatabase\n",
    "db = SQLDatabase.from_uri('sqlite:///weather.db')"
   ]
  },
  {
   "cell_type": "code",
   "execution_count": 26,
   "id": "6084d072-7d13-4358-8b39-dcd1014422df",
   "metadata": {
    "collapsed": true,
    "jupyter": {
     "outputs_hidden": true
    }
   },
   "outputs": [
    {
     "name": "stdout",
     "output_type": "stream",
     "text": [
      "\n",
      "CREATE TABLE weather (\n",
      "\tdate TEXT, \n",
      "\tweather_code REAL, \n",
      "\ttemperature_max REAL, \n",
      "\ttemperature_min REAL, \n",
      "\tprecipitation_sum REAL, \n",
      "\twind_speed_max REAL, \n",
      "\tprecipitation_probability_max REAL\n",
      ")\n",
      "\n",
      "/*\n",
      "3 rows from weather table:\n",
      "date\tweather_code\ttemperature_max\ttemperature_min\tprecipitation_sum\twind_speed_max\tprecipitation_probability_max\n",
      "2024-04-24\t3.0\t54.9464\t44.2364\t0.0\t9.309791\t45.0\n",
      "2024-04-25\t61.0\t52.6064\t47.1164\t0.22440945\t10.116089\t100.0\n",
      "2024-04-26\t3.0\t61.9664\t48.6464\t0.0\t8.249648\t100.0\n",
      "*/\n"
     ]
    }
   ],
   "source": [
    " print(db.table_info)"
   ]
  },
  {
   "cell_type": "code",
   "execution_count": 70,
   "id": "00445425-097f-4861-b998-ac72c96c4922",
   "metadata": {},
   "outputs": [
    {
     "name": "stdout",
     "output_type": "stream",
     "text": [
      "SELECT AVG(precipitation_sum) as avg_precipitation\n",
      "FROM weather\n",
      "WHERE date BETWEEN '2024-04-24' AND '2024-04-28'\n"
     ]
    }
   ],
   "source": [
    "llm = ChatOpenAI(model=\"gpt-3.5-turbo\", temperature=0)\n",
    "generate_query = create_sql_query_chain(llm, db)\n",
    "query = generate_query.invoke({\"question\": \"What is the average precipitation_sum between April 24 and April 28?\"})\n",
    "# \"what is price of `1968 Ford Mustang`\"\n",
    "print(query)"
   ]
  },
  {
   "cell_type": "code",
   "execution_count": 71,
   "id": "aaeb9979-b613-4623-b8f6-02756adf36f8",
   "metadata": {},
   "outputs": [
    {
     "data": {
      "text/plain": [
       "'[(0.07401575,)]'"
      ]
     },
     "execution_count": 71,
     "metadata": {},
     "output_type": "execute_result"
    }
   ],
   "source": [
    "from langchain_community.tools.sql_database.tool import QuerySQLDataBaseTool\n",
    "execute_query = QuerySQLDataBaseTool(db=db)\n",
    "execute_query.invoke(query)"
   ]
  },
  {
   "cell_type": "code",
   "execution_count": 75,
   "id": "e6673310-01f4-4853-8229-9f17235ece48",
   "metadata": {},
   "outputs": [
    {
     "data": {
      "text/plain": [
       "'The maximum temperature in the data is 61.9664 degrees Fahrenheit, and it occurred on April 26, 2024.'"
      ]
     },
     "execution_count": 75,
     "metadata": {},
     "output_type": "execute_result"
    }
   ],
   "source": [
    " from operator import itemgetter\n",
    "\n",
    " from langchain_core.output_parsers import StrOutputParser\n",
    " from langchain_core.prompts import PromptTemplate\n",
    " from langchain_core.runnables import RunnablePassthrough\n",
    "\n",
    " answer_prompt = PromptTemplate.from_template(\n",
    "     \"\"\"Given the following user question, corresponding SQL query, and SQL result, answer the user question.\n",
    "\n",
    " Question: {question}\n",
    " SQL Query: {query}\n",
    " SQL Result: {result}\n",
    " Answer: \"\"\"\n",
    " )\n",
    "\n",
    " rephrase_answer = answer_prompt | llm | StrOutputParser()\n",
    "\n",
    " chain = (\n",
    "     RunnablePassthrough.assign(query=generate_query).assign(\n",
    "         result=itemgetter(\"query\") | execute_query\n",
    "     )\n",
    "     | rephrase_answer\n",
    " )\n",
    "\n",
    " chain.invoke({\"question\": \"What is the maximum temperature in the data, and what day is it?\"})\n"
   ]
  }
 ],
 "metadata": {
  "kernelspec": {
   "display_name": "Python 3 (ipykernel)",
   "language": "python",
   "name": "python3"
  },
  "language_info": {
   "codemirror_mode": {
    "name": "ipython",
    "version": 3
   },
   "file_extension": ".py",
   "mimetype": "text/x-python",
   "name": "python",
   "nbconvert_exporter": "python",
   "pygments_lexer": "ipython3",
   "version": "3.10.0"
  }
 },
 "nbformat": 4,
 "nbformat_minor": 5
}
